{
 "cells": [
  {
   "cell_type": "markdown",
   "metadata": {},
   "source": [
    "### Bibliotecas"
   ]
  },
  {
   "cell_type": "markdown",
   "metadata": {},
   "source": [
    "**Instalando API ChatGPT**"
   ]
  },
  {
   "cell_type": "code",
   "execution_count": null,
   "metadata": {},
   "outputs": [],
   "source": [
    "!pip install openai"
   ]
  },
  {
   "cell_type": "code",
   "execution_count": null,
   "metadata": {},
   "outputs": [],
   "source": [
    "import pandas as pd\n",
    "import numpy as np\n",
    "import matplotlib.pyplot as plt\n",
    "import matplotlib.patches as mpatches\n",
    "import openai"
   ]
  },
  {
   "cell_type": "markdown",
   "metadata": {
    "id": "kPxuHlbT1y9T"
   },
   "source": [
    "### Importando e visualizando os dados"
   ]
  },
  {
   "cell_type": "markdown",
   "metadata": {
    "id": "rKKHuMwn1orP"
   },
   "source": [
    "**Importando a base de dados**"
   ]
  },
  {
   "cell_type": "code",
   "execution_count": 5,
   "metadata": {
    "id": "4uBo5e0919Lg"
   },
   "outputs": [
    {
     "data": {
      "text/html": [
       "<div>\n",
       "<style scoped>\n",
       "    .dataframe tbody tr th:only-of-type {\n",
       "        vertical-align: middle;\n",
       "    }\n",
       "\n",
       "    .dataframe tbody tr th {\n",
       "        vertical-align: top;\n",
       "    }\n",
       "\n",
       "    .dataframe thead th {\n",
       "        text-align: right;\n",
       "    }\n",
       "</style>\n",
       "<table border=\"1\" class=\"dataframe\">\n",
       "  <thead>\n",
       "    <tr style=\"text-align: right;\">\n",
       "      <th></th>\n",
       "      <th>nota</th>\n",
       "      <th>comentario</th>\n",
       "    </tr>\n",
       "  </thead>\n",
       "  <tbody>\n",
       "    <tr>\n",
       "      <th>0</th>\n",
       "      <td>9</td>\n",
       "      <td>Esse óleo de barba é incrível! Minha barba est...</td>\n",
       "    </tr>\n",
       "    <tr>\n",
       "      <th>1</th>\n",
       "      <td>10</td>\n",
       "      <td>Adorei esse óleo de barba! Hidratação perfeita...</td>\n",
       "    </tr>\n",
       "    <tr>\n",
       "      <th>2</th>\n",
       "      <td>8</td>\n",
       "      <td>Recomendo muito esse óleo de barba. Minha barb...</td>\n",
       "    </tr>\n",
       "    <tr>\n",
       "      <th>3</th>\n",
       "      <td>7</td>\n",
       "      <td>Ótimo óleo de barba. Textura leve e hidratação...</td>\n",
       "    </tr>\n",
       "    <tr>\n",
       "      <th>4</th>\n",
       "      <td>10</td>\n",
       "      <td>Meu novo óleo de barba favorito! Aroma suave e...</td>\n",
       "    </tr>\n",
       "    <tr>\n",
       "      <th>...</th>\n",
       "      <td>...</td>\n",
       "      <td>...</td>\n",
       "    </tr>\n",
       "    <tr>\n",
       "      <th>94</th>\n",
       "      <td>7</td>\n",
       "      <td>Esse óleo de barba é bom, mas demora um pouco ...</td>\n",
       "    </tr>\n",
       "    <tr>\n",
       "      <th>95</th>\n",
       "      <td>9</td>\n",
       "      <td>Estou muito satisfeito com a qualidade desse ó...</td>\n",
       "    </tr>\n",
       "    <tr>\n",
       "      <th>96</th>\n",
       "      <td>8</td>\n",
       "      <td>Esse óleo de barba é eficiente. Minha barba es...</td>\n",
       "    </tr>\n",
       "    <tr>\n",
       "      <th>97</th>\n",
       "      <td>10</td>\n",
       "      <td>Adoro usar esse óleo de barba. Minha barba fic...</td>\n",
       "    </tr>\n",
       "    <tr>\n",
       "      <th>98</th>\n",
       "      <td>7</td>\n",
       "      <td>Esse óleo de barba é bom, mas a embalagem pode...</td>\n",
       "    </tr>\n",
       "  </tbody>\n",
       "</table>\n",
       "<p>99 rows × 2 columns</p>\n",
       "</div>"
      ],
      "text/plain": [
       "    nota                                         comentario\n",
       "0      9  Esse óleo de barba é incrível! Minha barba est...\n",
       "1     10  Adorei esse óleo de barba! Hidratação perfeita...\n",
       "2      8  Recomendo muito esse óleo de barba. Minha barb...\n",
       "3      7  Ótimo óleo de barba. Textura leve e hidratação...\n",
       "4     10  Meu novo óleo de barba favorito! Aroma suave e...\n",
       "..   ...                                                ...\n",
       "94     7  Esse óleo de barba é bom, mas demora um pouco ...\n",
       "95     9  Estou muito satisfeito com a qualidade desse ó...\n",
       "96     8  Esse óleo de barba é eficiente. Minha barba es...\n",
       "97    10  Adoro usar esse óleo de barba. Minha barba fic...\n",
       "98     7  Esse óleo de barba é bom, mas a embalagem pode...\n",
       "\n",
       "[99 rows x 2 columns]"
      ]
     },
     "execution_count": 5,
     "metadata": {},
     "output_type": "execute_result"
    }
   ],
   "source": [
    "dados = pd.read_csv('feedbacks.csv', sep=';')\n",
    "dados"
   ]
  },
  {
   "cell_type": "markdown",
   "metadata": {
    "id": "mLVWuSoR20_6"
   },
   "source": [
    "**Visualizando os dadods**"
   ]
  },
  {
   "cell_type": "code",
   "execution_count": 7,
   "metadata": {
    "id": "oT4sUm_Y4G0U"
   },
   "outputs": [
    {
     "data": {
      "image/png": "[encoded data removed]",
      "text/plain": [
       "<Figure size 640x480 with 1 Axes>"
      ]
     },
     "metadata": {},
     "output_type": "display_data"
    }
   ],
   "source": [
    "notas = dados['nota']\n",
    "\n",
    "contagens_detratores = len(notas[notas <= 6])\n",
    "contagens_passivos = len(notas[(notas >= 7) & (notas <= 8)])\n",
    "contagens_promotores = len(notas[notas >= 9])\n",
    "labels = ['Detratores', 'Passivos', 'Promotores']\n",
    "valores = [contagens_detratores, contagens_passivos, contagens_promotores]\n",
    "fig, ax = plt.subplots()\n",
    "ax.bar(labels, valores)\n",
    "\n",
    "ax.set_ylabel('Quantidade de Notas')\n",
    "ax.set_title('Contagem de Notas')\n",
    "\n",
    "plt.show()"
   ]
  },
  {
   "cell_type": "markdown",
   "metadata": {
    "id": "ouLgphX45JmB"
   },
   "source": [
    "### Calculando e visualizando NPS a partir do feedback\n"
   ]
  },
  {
   "cell_type": "markdown",
   "metadata": {
    "id": "2fscST1w7Qng"
   },
   "source": [
    "**Calculando NPS com base no feedback**"
   ]
  },
  {
   "cell_type": "code",
   "execution_count": 9,
   "metadata": {
    "id": "dhAFx0oTI7aG"
   },
   "outputs": [
    {
     "name": "stdout",
     "output_type": "stream",
     "text": [
      "29.292929292929294\n"
     ]
    }
   ],
   "source": [
    "nota = dados['nota']\n",
    "\n",
    "detratores = 0\n",
    "promotores = 0\n",
    "\n",
    "for nota in notas:\n",
    "  if nota >= 9:\n",
    "    promotores += 1\n",
    "  elif nota <= 6:\n",
    "    detratores += 1\n",
    "\n",
    "nps = (promotores - detratores) / len(notas) * 100\n",
    "\n",
    "print(nps)"
   ]
  },
  {
   "cell_type": "markdown",
   "metadata": {
    "id": "YmMUXtdH7X87"
   },
   "source": [
    "**Visualizando o calculo NPS no gráfico**"
   ]
  },
  {
   "cell_type": "code",
   "execution_count": 11,
   "metadata": {
    "id": "lvhOxOxq5yY9"
   },
   "outputs": [],
   "source": [
    "nps_zonas = ['Crítico', 'Aperfeiçoamento', 'Qualidade', 'Excelência']\n",
    "nps_valores = [-100, 0, 50, 75, 100]\n",
    "nps_cores = ['#FF595E', '#FFCA3A', '#8AC926', '#1982C4']"
   ]
  },
  {
   "cell_type": "code",
   "execution_count": 12,
   "metadata": {
    "id": "yxTOtMnl50qn"
   },
   "outputs": [
    {
     "data": {
      "image/png": "[encoded data removed]",
      "text/plain": [
       "<Figure size 1000x200 with 1 Axes>"
      ]
     },
     "metadata": {},
     "output_type": "display_data"
    }
   ],
   "source": [
    "fig, ax = plt.subplots(figsize=(10,2))\n",
    "\n",
    "for i, zona in enumerate(nps_zonas):\n",
    "  ax.barh([0], width=nps_valores[i+1] - nps_valores[i], left=nps_valores[i], color=nps_cores[i])\n",
    "\n",
    "patches = [mpatches.Patch(color=nps_cores[i], label=nps_zonas[i]) for i in range(len(nps_zonas))]\n",
    "plt.legend(handles=patches, bbox_to_anchor=(1, 1))\n",
    "ax.barh([0], width=1, left=nps, color='black')\n",
    "ax.set_xlim(-100, 100)\n",
    "ax.set_xticks(nps_valores)\n",
    "ax.set_yticks([])\n",
    "\n",
    "plt.text(nps, 0, f'{nps: .2f}', ha='center', va='center', color='white', bbox=dict(facecolor='black'))\n",
    "\n",
    "plt.title('Gráfico NPS')\n",
    "\n",
    "plt.show()"
   ]
  },
  {
   "cell_type": "markdown",
   "metadata": {
    "id": "_0e-f6eCIfWR"
   },
   "source": [
    "## **Analisando sentimentos com ChatGPT**"
   ]
  },
  {
   "cell_type": "markdown",
   "metadata": {
    "id": "bI6oH2yPROxD"
   },
   "source": [
    "**API Key**"
   ]
  },
  {
   "cell_type": "code",
   "execution_count": null,
   "metadata": {
    "id": "tO6DJ1V3M7sX"
   },
   "outputs": [],
   "source": [
    "openai_api_key =\n",
    "openai.api_key = openai_api_key"
   ]
  },
  {
   "cell_type": "markdown",
   "metadata": {
    "id": "7kYWuIean3n2"
   },
   "source": [
    "**Implementando classe para feedback**"
   ]
  },
  {
   "cell_type": "code",
   "execution_count": null,
   "metadata": {
    "id": "jVvRj_Kqn27j"
   },
   "outputs": [],
   "source": [
    "class Feedback:\n",
    "  def __init__(self, nota, comentario):\n",
    "    self.nota = nota\n",
    "    self.comentario = comentario\n",
    "\n",
    "class AnalisadorFeedback:\n",
    "  def __init__(self, feedbacks):\n",
    "    self.feedbacks = feedbacks\n",
    "\n",
    "feedbacks = dados.apply(lambda linha: Feedback(linha['nota'], linha['comentario']), axis=1)\n",
    "\n",
    "for feedback in feedbacks:\n",
    "    print(f\"Nota: {feedback.nota}, Comentário: {feedback.comentario}\")"
   ]
  },
  {
   "cell_type": "markdown",
   "metadata": {
    "id": "0u7rIrvXM38S"
   },
   "source": [
    "**Analisando sentimentos**"
   ]
  },
  {
   "cell_type": "code",
   "execution_count": null,
   "metadata": {
    "id": "Qir54P22RVd9"
   },
   "outputs": [],
   "source": [
    "def analisar_sentimentos(feedbacks):\n",
    "\n",
    "  comentarios_formatados = \"\\n\".join([f\"- Nota {feedback.nota}! {feedback.comentario}\" for feedback in feedbacks])\n",
    "\n",
    "  prompt = f\"\"\"\n",
    "            Sintetize uma análise geral sobre os seguintes comentário:\n",
    "            {comentarios_formatados}\n",
    "            \"\"\"\n",
    "\n",
    "  respostaAPI = openai.ChatCompletion.create(\n",
    "    model=\"gpt-4\",\n",
    "    messages=[\n",
    "      {\n",
    "          \"role\": \"system\",\n",
    "          \"content\": \"Você é um modelo de análise de sentimentos com foco em feedbacks sobre experiências educacionais.\"\n",
    "      },\n",
    "      {\n",
    "          \"role\": \"user\",\n",
    "          \"content\": prompt\n",
    "      }\n",
    "    ]\n",
    "  )\n",
    "  return respostaAPI.choices[0].message.content\n",
    "\n",
    "resposta = analisar_sentimentos(feedbacks)\n",
    "print(resposta)"
   ]
  }
 ],
 "metadata": {
  "colab": {
   "provenance": [],
   "toc_visible": true
  },
  "kernelspec": {
   "display_name": "Python 3 (ipykernel)",
   "language": "python",
   "name": "python3"
  },
  "language_info": {
   "codemirror_mode": {
    "name": "ipython",
    "version": 3
   },
   "file_extension": ".py",
   "mimetype": "text/x-python",
   "name": "python",
   "nbconvert_exporter": "python",
   "pygments_lexer": "ipython3",
   "version": "3.11.4"
  }
 },
 "nbformat": 4,
 "nbformat_minor": 1
}
